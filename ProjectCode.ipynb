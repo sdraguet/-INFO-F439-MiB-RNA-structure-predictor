{
 "cells": [
  {
   "cell_type": "markdown",
   "id": "373f882c-129e-4cba-a62b-82d8aa5d4c54",
   "metadata": {},
   "source": [
    "# MiB RNA structure prediction using positive and negative evolutionary information"
   ]
  },
  {
   "cell_type": "code",
   "execution_count": 21,
   "id": "b6eca089-74b3-479c-bc3b-81caf358de89",
   "metadata": {},
   "outputs": [],
   "source": [
    "import random\n",
    "import requests\n",
    "import time\n",
    "import pandas as pd\n",
    "import seaborn as sns\n",
    "import matplotlib.pyplot as plt"
   ]
  },
  {
   "cell_type": "markdown",
   "id": "bde47f1b-2cb8-4998-9d77-3222d284c7b3",
   "metadata": {},
   "source": [
    "Extraction of sequences, creation of datasets and MSA calculation"
   ]
  },
  {
   "cell_type": "code",
   "execution_count": 23,
   "id": "b9d8f563-1d07-46bc-90a3-9649a3cd97be",
   "metadata": {
    "scrolled": true
   },
   "outputs": [],
   "source": [
    "def seqExtract(fileLocation):  #fileLocation better be in the same folder\n",
    "    \"\"\"Extract all the sequences from the stockholm file provided by Rfam\"\"\"\n",
    "    fileIntermed = \"allSeq.txt\"\n",
    "    fasta = open(fileIntermed, \"w\") \n",
    "    \n",
    "    with open(fileLocation, \"r\") as stockMSA:\n",
    "        lines = len(stockMSA.readlines()) #nbre of lines\n",
    "        stockMSA.seek(0)\n",
    "        allID = []\n",
    "        for i in range(1, lines):\n",
    "            line = stockMSA.readline()\n",
    "            if not(line[0] == '#' or line[0] == \"\\n\"):\n",
    "                id_seq = [j for j in line.split(' ') if j != ''] # split line into [id, seq]\n",
    "                finalID = \">\"+id_seq[0]+\"\\n\"\n",
    "                finalSeq = id_seq[1].replace('-','')\n",
    "                fasta.writelines([finalID, finalSeq])\n",
    "    \n",
    "    fasta.close()\n",
    "\n",
    "    fileOutput, numSeq = seqCombination(fileIntermed, fileLocation)\n",
    "    \n",
    "    return fileOutput, numSeq"
   ]
  },
  {
   "cell_type": "code",
   "execution_count": 25,
   "id": "9bcb549e-428b-4b95-b708-e4e1e9626c1a",
   "metadata": {},
   "outputs": [],
   "source": [
    "def seqCombination(fileName, fileLocation):\n",
    "    \"\"\"If sequences in multiple parts, combines them\"\"\"\n",
    "    fileOutput = \"ALLSEQ_\" + fileLocation\n",
    "\n",
    "    with open(fileName, \"r\") as seqFile:\n",
    "        lines = len(seqFile.readlines()) #nbre of lines\n",
    "        seqFile.seek(0)\n",
    "        allID = []\n",
    "        allSeq = []\n",
    "        nbrSeq = 0\n",
    "        for i in range(1, int(lines/2)):\n",
    "            lineID = seqFile.readline()\n",
    "            lineSeq = seqFile.readline()\n",
    "            if not(lineID in allID):\n",
    "                allID.append(lineID)\n",
    "                allSeq.append(lineSeq.rstrip())\n",
    "                nbrSeq += 1\n",
    "            else:\n",
    "                indexID = allID.index(lineID)\n",
    "                allSeq[indexID] += lineSeq\n",
    "\n",
    "    with open(fileOutput, \"w\") as outFile:\n",
    "        for j in range(len(allID)):\n",
    "            outFile.writelines([\">\"+str(j+1)+\"_\"+allID[j][1:], allSeq[j]])\n",
    "\n",
    "    return fileOutput, nbrSeq"
   ]
  },
  {
   "cell_type": "code",
   "execution_count": 27,
   "id": "720d086d-b3d2-445f-b420-c1b87eae8517",
   "metadata": {
    "scrolled": true
   },
   "outputs": [],
   "source": [
    "def randChoice(allSeqFile, seqNum, percent):\n",
    "    \"\"\"Create new file with a percentage of all the sequences\"\"\"\n",
    "    randSeq = random.sample(range(1, seqNum), int(seqNum//(100/percent)))\n",
    "    fileOutput = str(percent) + \"PERCENT_\" + allSeqFile[7:] \n",
    "    fastaRand = open(fileOutput, \"w\")\n",
    "    \n",
    "    with open(allSeqFile, \"r\") as fastaFull:\n",
    "        lines = fastaFull.readlines()\n",
    "        for i in range(0, len(lines), 2):\n",
    "            seqIndex = lines[i].split('_')[0][1:]\n",
    "            if (int(seqIndex) in randSeq):\n",
    "                fastaRand.writelines([lines[i], lines[i+1]])\n",
    "    \n",
    "    fastaRand.close()\n",
    "    \n",
    "    return fileOutput, seqNum//(100/percent)"
   ]
  },
  {
   "cell_type": "code",
   "execution_count": 51,
   "id": "c1dbbd46-9929-4ddc-a9cb-b3b427a4b8f9",
   "metadata": {
    "scrolled": true
   },
   "outputs": [],
   "source": [
    "def msaCalc(seqFile):\n",
    "    \"\"\"Sends a FASTA file for MSA with Clustal Omega and automatically saves the result in the folder (actually just incredible)\"\"\"\n",
    "    \n",
    "    # Read the RNA sequence from a text file\n",
    "    with open(seqFile, 'r') as file:\n",
    "        sequences = file.read()\n",
    "    \n",
    "    # Submit the job to Clustal Omega for RNA\n",
    "    submit_url = 'https://www.ebi.ac.uk/Tools/services/rest/clustalo/run'\n",
    "    data = {\n",
    "        'sequence': sequences,\n",
    "        'email': 'simon.draguet@gmail.com',  # Mandatory and must be valid\n",
    "        'outfmt': 'stockholm',\n",
    "        'stype': 'rna'\n",
    "    }\n",
    "    submit_response = requests.post(submit_url, data=data)\n",
    "    \n",
    "    # Check the response\n",
    "    if not submit_response.ok or '<error>' in submit_response.text:\n",
    "        print(\"[ERROR] Submission failed:\")\n",
    "        print(submit_response.text)\n",
    "        exit()\n",
    "    \n",
    "    job_id = submit_response.text.strip()\n",
    "    print(f\"[INFO] Job submitted with ID: {job_id}\")\n",
    "    \n",
    "    # Check the job status\n",
    "    status_url = f'https://www.ebi.ac.uk/Tools/services/rest/clustalo/status/{job_id}'\n",
    "    while True:\n",
    "        status_response = requests.get(status_url)\n",
    "        status = status_response.text.strip()\n",
    "        print(f\"[INFO] Current status: {status}\")\n",
    "        if status == 'FINISHED':\n",
    "            break\n",
    "        elif status in ['ERROR', 'FAILURE', 'NOT_FOUND']:\n",
    "            print(f\"[ERROR] Job failed or not found: {status}\")\n",
    "            exit()\n",
    "        time.sleep(5)\n",
    "    \n",
    "    # Retrieve the result\n",
    "    result_url = f'https://www.ebi.ac.uk/Tools/services/rest/clustalo/result/{job_id}/aln-stockholm'\n",
    "    result_response = requests.get(result_url)\n",
    "    \n",
    "    if result_response.ok:\n",
    "        with open(\"MSA_\" + seqFile, 'w') as f:\n",
    "            f.write(result_response.text)\n",
    "        print(\"[INFO] Aligned RNA result saved in '\" + \"MSA_\" + seqFile + \"'\")\n",
    "    else:\n",
    "        print(\"[ERROR] Unable to retrieve the result:\", result_response.text)\n"
   ]
  },
  {
   "cell_type": "code",
   "execution_count": 13,
   "id": "8b57143f-16f1-4fa5-8f7f-4af4159e6425",
   "metadata": {},
   "outputs": [],
   "source": [
    "def allCalc(stockFile):\n",
    "    \"\"\"Just give stockholm file from Rfam and do different MSA with diff % of the number of sequences\"\"\"\n",
    "    extraction = seqExtract(stockFile)\n",
    "    nbrSeqPer = []\n",
    "    for i in range(10,100,10):\n",
    "        randomSeq = randChoice(extraction[0], extraction[1], i)\n",
    "        nbrSeqPer.append(randomSeq)\n",
    "        msaCalc(randomSeq[0])\n",
    "\n",
    "    return nbrSeqPer"
   ]
  },
  {
   "cell_type": "code",
   "execution_count": 31,
   "id": "72343ff5-44b3-4f8b-8be5-a2f179a53387",
   "metadata": {
    "scrolled": true
   },
   "outputs": [
    {
     "name": "stdout",
     "output_type": "stream",
     "text": [
      "[INFO] Job soumis avec ID : clustalo-R20250512-145653-0821-23060843-p1m\n",
      "[INFO] Statut actuel : QUEUED\n",
      "[INFO] Statut actuel : RUNNING\n",
      "[INFO] Statut actuel : RUNNING\n",
      "[INFO] Statut actuel : FINISHED\n",
      "[INFO] Résultat ARN aligné sauvegardé dans 'MSA_10PERCENT_RF01739.stockholm.txt'\n",
      "[INFO] Job soumis avec ID : clustalo-R20250512-145722-0971-3822786-p1m\n",
      "[INFO] Statut actuel : RUNNING\n",
      "[INFO] Statut actuel : FINISHED\n",
      "[INFO] Résultat ARN aligné sauvegardé dans 'MSA_20PERCENT_RF01739.stockholm.txt'\n",
      "[INFO] Job soumis avec ID : clustalo-R20250512-145736-0760-95477775-p1m\n",
      "[INFO] Statut actuel : RUNNING\n",
      "[INFO] Statut actuel : FINISHED\n",
      "[INFO] Résultat ARN aligné sauvegardé dans 'MSA_30PERCENT_RF01739.stockholm.txt'\n",
      "[INFO] Job soumis avec ID : clustalo-R20250512-145757-0562-92726785-p1m\n",
      "[INFO] Statut actuel : RUNNING\n",
      "[INFO] Statut actuel : FINISHED\n",
      "[INFO] Résultat ARN aligné sauvegardé dans 'MSA_40PERCENT_RF01739.stockholm.txt'\n",
      "[INFO] Job soumis avec ID : clustalo-R20250512-145813-0986-71307663-p1m\n",
      "[INFO] Statut actuel : RUNNING\n",
      "[INFO] Statut actuel : FINISHED\n",
      "[INFO] Résultat ARN aligné sauvegardé dans 'MSA_50PERCENT_RF01739.stockholm.txt'\n",
      "[INFO] Job soumis avec ID : clustalo-R20250512-145831-0674-62752735-p1m\n",
      "[INFO] Statut actuel : QUEUED\n",
      "[INFO] Statut actuel : FINISHED\n",
      "[INFO] Résultat ARN aligné sauvegardé dans 'MSA_60PERCENT_RF01739.stockholm.txt'\n",
      "[INFO] Job soumis avec ID : clustalo-R20250512-145845-0684-63837596-p1m\n",
      "[INFO] Statut actuel : RUNNING\n",
      "[INFO] Statut actuel : RUNNING\n",
      "[INFO] Statut actuel : FINISHED\n",
      "[INFO] Résultat ARN aligné sauvegardé dans 'MSA_70PERCENT_RF01739.stockholm.txt'\n",
      "[INFO] Job soumis avec ID : clustalo-R20250512-145910-0234-80100684-p1m\n",
      "[INFO] Statut actuel : QUEUED\n",
      "[INFO] Statut actuel : RUNNING\n",
      "[INFO] Statut actuel : FINISHED\n",
      "[INFO] Résultat ARN aligné sauvegardé dans 'MSA_80PERCENT_RF01739.stockholm.txt'\n",
      "[INFO] Job soumis avec ID : clustalo-R20250512-145932-0717-30218851-p1m\n",
      "[INFO] Statut actuel : RUNNING\n",
      "[INFO] Statut actuel : RUNNING\n",
      "[INFO] Statut actuel : FINISHED\n",
      "[INFO] Résultat ARN aligné sauvegardé dans 'MSA_90PERCENT_RF01739.stockholm.txt'\n",
      "[('10PERCENT_RF01739.stockholm.txt', 94.0), ('20PERCENT_RF01739.stockholm.txt', 188.0), ('30PERCENT_RF01739.stockholm.txt', 281.0), ('40PERCENT_RF01739.stockholm.txt', 376.0), ('50PERCENT_RF01739.stockholm.txt', 470.0), ('60PERCENT_RF01739.stockholm.txt', 563.0), ('70PERCENT_RF01739.stockholm.txt', 657.0), ('80PERCENT_RF01739.stockholm.txt', 752.0), ('90PERCENT_RF01739.stockholm.txt', 845.0)]\n"
     ]
    }
   ],
   "source": [
    "res = allCalc(\"RF01739.stockholm.txt\")\n",
    "print(res)"
   ]
  },
  {
   "cell_type": "code",
   "execution_count": 103,
   "id": "5b4a5f91-76c8-496a-8740-7515b523cd5f",
   "metadata": {
    "scrolled": true
   },
   "outputs": [
    {
     "name": "stdout",
     "output_type": "stream",
     "text": [
      "('50PERCENT_RF00005.stockholm.txt', 476.0)\n",
      "[INFO] Job soumis avec ID : clustalo-R20250510-132853-0774-92674334-p1m\n",
      "[INFO] Statut actuel : QUEUED\n",
      "[INFO] Statut actuel : RUNNING\n",
      "[INFO] Statut actuel : FINISHED\n",
      "[INFO] Résultat ARN aligné sauvegardé dans 'MSA_50PERCENT_RF00005.stockholm.txt'\n"
     ]
    }
   ],
   "source": [
    "randomSeq = randChoice(\"ALLSEQ_RF00005.stockholm.txt\", 953, 50)\n",
    "print(randomSeq)\n",
    "msaCalc('50PERCENT_RF00005.stockholm.txt')"
   ]
  },
  {
   "cell_type": "markdown",
   "id": "19e67746-0496-4fe8-aba7-dfdd17c33154",
   "metadata": {},
   "source": [
    "Occurence of genes among datasets"
   ]
  },
  {
   "cell_type": "code",
   "execution_count": 7,
   "id": "bbb92f34-fb0c-40ab-84dc-8ad6958a3e6a",
   "metadata": {},
   "outputs": [],
   "source": [
    "def occGenes(fileLocation):\n",
    "    with open(fileLocation, \"r\") as seqFile:\n",
    "            lines = len(seqFile.readlines()) #nbre of lines\n",
    "            seqFile.seek(0)\n",
    "            allID = []\n",
    "            occID = []\n",
    "            for i in range(1, lines):\n",
    "                line = seqFile.readline()\n",
    "                if line[0] == '>':\n",
    "                    idName = line.split('_')[1]\n",
    "                    geneName = idName.split('/')[0]\n",
    "                    if not(geneName in allID):\n",
    "                        allID.append(geneName)\n",
    "                        occID.append(1)\n",
    "                    else:\n",
    "                        occID[allID.index(geneName)] += 1\n",
    "\n",
    "    outID = []\n",
    "    outOcc = []\n",
    "    for j in range(len(occID)):\n",
    "        if occID[j] > 2: # can be modified\n",
    "            outID.append(allID[j])\n",
    "            outOcc.append(occID[j])\n",
    "    return [outID, outOcc]"
   ]
  },
  {
   "cell_type": "code",
   "execution_count": 21,
   "id": "d513b82b-907d-4f56-8940-4c26cfc9a81c",
   "metadata": {
    "scrolled": true
   },
   "outputs": [
    {
     "data": {
      "image/png": "[encoded data removed]",
      "text/plain": [
       "<Figure size 640x480 with 1 Axes>"
      ]
     },
     "metadata": {},
     "output_type": "display_data"
    }
   ],
   "source": [
    "dataSet1 = occGenes(\"50PERCENT_RF00005.stockholm.txt\") #changed manually\n",
    "dataSet2 = occGenes(\"ALLSEQ_RF00005.stockholm.txt\") #changed manually\n",
    "\n",
    "# Example input data\n",
    "data1 = {'Gene': dataSet1[0], 'Occurrences': dataSet1[1], 'Dataset': '50%'}\n",
    "data2 = {'Gene': dataSet2[0], 'Occurrences': dataSet2[1], 'Dataset': '100%'}\n",
    "\n",
    "df1 = pd.DataFrame(data1)\n",
    "df2 = pd.DataFrame(data2)\n",
    "\n",
    "# Combine and ensure all genes are represented\n",
    "df = pd.concat([df1, df2], ignore_index=True)\n",
    "\n",
    "# Fill missing combinations with 0 (optional depending on how you want to handle absence)\n",
    "all_genes = df['Gene'].unique()\n",
    "all_datasets = df['Dataset'].unique()\n",
    "\n",
    "# Pivot then unpivot to ensure all gene-dataset pairs exist\n",
    "pivoted = df.pivot_table(index='Gene', columns='Dataset', values='Occurrences', fill_value=0)\n",
    "df_full = pivoted.reset_index().melt(id_vars='Gene', var_name='Dataset', value_name='Occurrences')\n",
    "\n",
    "# Optional: sort so smaller bars come first for visual clarity (only matters if overlaying bars)\n",
    "df_full['sort_order'] = df_full.groupby('Gene')['Occurrences'].rank(method='first')\n",
    "df_full = df_full.sort_values(['Gene', 'sort_order'])\n",
    "\n",
    "# Plot\n",
    "sns.barplot(data=df_full, x='Gene', y='Occurrences', hue='Dataset', dodge=True)\n",
    "plt.title('Gene Occurrences by dataset used')\n",
    "plt.xticks(rotation=90, fontsize=7)\n",
    "plt.tight_layout()\n",
    "plt.show()\n"
   ]
  },
  {
   "cell_type": "code",
   "execution_count": null,
   "id": "f608f2a1-9f48-4024-baa9-e89f2228e475",
   "metadata": {},
   "outputs": [],
   "source": []
  }
 ],
 "metadata": {
  "kernelspec": {
   "display_name": "Python [conda env:base] *",
   "language": "python",
   "name": "conda-base-py"
  },
  "language_info": {
   "codemirror_mode": {
    "name": "ipython",
    "version": 3
   },
   "file_extension": ".py",
   "mimetype": "text/x-python",
   "name": "python",
   "nbconvert_exporter": "python",
   "pygments_lexer": "ipython3",
   "version": "3.11.10"
  }
 },
 "nbformat": 4,
 "nbformat_minor": 5
}
